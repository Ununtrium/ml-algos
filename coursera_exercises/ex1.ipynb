{
 "cells": [
  {
   "cell_type": "markdown",
   "metadata": {},
   "source": [
    "# ML EX1\n",
    "\n",
    "Import some modules"
   ]
  },
  {
   "cell_type": "code",
   "execution_count": 138,
   "metadata": {
    "collapsed": true
   },
   "outputs": [],
   "source": [
    "import numpy as np\n",
    "import matplotlib.pyplot as plt\n",
    "\n",
    "%matplotlib inline"
   ]
  },
  {
   "cell_type": "markdown",
   "metadata": {},
   "source": [
    "Define functions for linear regression"
   ]
  },
  {
   "cell_type": "code",
   "execution_count": 139,
   "metadata": {
    "collapsed": true
   },
   "outputs": [],
   "source": [
    "def computeCost(X, y, theta):\n",
    "    m = y.size\n",
    "    diff = np.dot(X, theta).reshape(-1) - y\n",
    "    return np.vdot(diff, diff) / (2 * m)"
   ]
  },
  {
   "cell_type": "code",
   "execution_count": 140,
   "metadata": {
    "collapsed": true
   },
   "outputs": [],
   "source": [
    "def gradientDescent(X, y, theta, alpha, num_iters):\n",
    "    m = y.size\n",
    "    J_history = np.zeros(num_iters)\n",
    "\n",
    "    for idx in np.nditer(J_history, op_flags=['readwrite']):\n",
    "        '''\n",
    "        Instructions: Perform a single gradient step on the parameter vector\n",
    "                      theta. \n",
    "        \n",
    "        Hint: While debugging, it can be useful to print out the values\n",
    "              of the cost function (computeCost) and gradient here.\n",
    "        '''\n",
    "        diff = (np.dot(X, theta).reshape(-1) - y).reshape((m,1))\n",
    "        theta = theta - (alpha/m) * np.dot(diff.T, X).T\n",
    "        \n",
    "        # Save the cost J in every iteration    \n",
    "        idx = computeCost(X, y, theta)\n",
    "    \n",
    "    return theta"
   ]
  },
  {
   "cell_type": "markdown",
   "metadata": {},
   "source": [
    "Exercise Code"
   ]
  },
  {
   "cell_type": "code",
   "execution_count": 141,
   "metadata": {
    "collapsed": false
   },
   "outputs": [
    {
     "name": "stdout",
     "output_type": "stream",
     "text": [
      "Plotting Data ...\n"
     ]
    },
    {
     "data": {
      "image/png": "[encoded data removed]",
      "text/plain": [
       "<matplotlib.figure.Figure at 0x7f7203ddd390>"
      ]
     },
     "metadata": {},
     "output_type": "display_data"
    }
   ],
   "source": [
    "print 'Plotting Data ...'\n",
    "data = np.loadtxt('datasets/ex1data1.txt', delimiter=',')\n",
    "X = data[:, 0]\n",
    "y = data[:, 1]\n",
    "m = y.size # number of training examples\n",
    "\n",
    "plt.plot(X, y, 'rx', markersize=10)\n",
    "plt.ylabel('Profit in $10,000s')\n",
    "plt.xlabel('Population of city in 10,000s')\n",
    "plt.show()"
   ]
  },
  {
   "cell_type": "code",
   "execution_count": 142,
   "metadata": {
    "collapsed": false
   },
   "outputs": [
    {
     "name": "stdout",
     "output_type": "stream",
     "text": [
      "Running Gradient Descent ...\n",
      "32.0727338775\n",
      "Theta found by gradient descent: \n",
      "[-3.63029144] [ 1.16636235]\n"
     ]
    }
   ],
   "source": [
    "print 'Running Gradient Descent ...'\n",
    "\n",
    "X = (np.vstack((np.ones(m), X))).T # add ones, and transpose to (m by 2)\n",
    "theta = np.zeros((2, 1)) # initialize fitting parameters\n",
    "\n",
    "# Some gradient descent settings\n",
    "iterations = 1500\n",
    "alpha = 0.01\n",
    "\n",
    "# compute and display initial cost\n",
    "print computeCost(X, y, theta)\n",
    "\n",
    "# run gradient descent\n",
    "theta = gradientDescent(X, y, theta, alpha, iterations)\n",
    "\n",
    "# print theta to screen\n",
    "print 'Theta found by gradient descent: '\n",
    "print theta[0], theta[1]\n"
   ]
  },
  {
   "cell_type": "code",
   "execution_count": 146,
   "metadata": {
    "collapsed": false
   },
   "outputs": [
    {
     "data": {
      "image/png": "[encoded data removed]",
      "text/plain": [
       "<matplotlib.figure.Figure at 0x7f7203eddb10>"
      ]
     },
     "metadata": {},
     "output_type": "display_data"
    },
    {
     "name": "stdout",
     "output_type": "stream",
     "text": [
      "For population = 35,000, we predict a profit of  4519.7678677\n",
      "For population = 70,000, we predict a profit of  45342.4501294\n"
     ]
    }
   ],
   "source": [
    "# Plot the linear fit\n",
    "plt.ylabel('Profit in $10,000s')\n",
    "plt.xlabel('Population of city in 10,000s')\n",
    "plt.plot(X[:,1], y, 'rx', markersize=10, label='Training data')\n",
    "plt.plot(X[:,1], np.dot(X, theta).reshape(-1), '-', label='Linear regression')\n",
    "plt.legend(loc='lower right')\n",
    "plt.show()\n",
    "\n",
    "# Predict values for population sizes of 35,000 and 70,000\n",
    "predict1 = np.vdot(np.array([1, 3.5]), theta)\n",
    "print 'For population = 35,000, we predict a profit of ', predict1*10000\n",
    "predict2 = np.vdot(np.array([1, 7]), theta)\n",
    "print 'For population = 70,000, we predict a profit of ', predict2*10000"
   ]
  }
 ],
 "metadata": {
  "kernelspec": {
   "display_name": "Python 2",
   "language": "python",
   "name": "python2"
  },
  "language_info": {
   "codemirror_mode": {
    "name": "ipython",
    "version": 2
   },
   "file_extension": ".py",
   "mimetype": "text/x-python",
   "name": "python",
   "nbconvert_exporter": "python",
   "pygments_lexer": "ipython2",
   "version": "2.7.6"
  }
 },
 "nbformat": 4,
 "nbformat_minor": 0
}
